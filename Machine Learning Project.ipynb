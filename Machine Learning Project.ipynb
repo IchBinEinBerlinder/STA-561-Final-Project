{
 "cells": [
  {
   "cell_type": "markdown",
   "metadata": {},
   "source": [
    "# 2019 Machine Learning Project\n",
    "* Davis Berlind, Alex Marsh, Stella McMullen\n",
    "\n",
    "## Implementing Elastic Net"
   ]
  },
  {
   "cell_type": "code",
   "execution_count": 2,
   "metadata": {},
   "outputs": [],
   "source": [
    "#imports\n",
    "import pandas as pd\n",
    "import statsmodels.api as sm\n",
    "\n",
    "%run -i fred_api_key\n",
    "from datetime import datetime\n",
    "\n",
    "%matplotlib inline\n",
    "import matplotlib.pyplot as plt\n",
    "import seaborn as sns; sns.set()\n",
    "import numpy as np\n",
    "\n",
    "from sklearn.linear_model import ElasticNet, enet_path, lasso_path, Ridge\n",
    "from sklearn.datasets import make_regression\n",
    "from sklearn import preprocessing, linear_model\n",
    "from sklearn.metrics import mean_squared_error\n",
    "\n",
    "from itertools import cycle"
   ]
  },
  {
   "cell_type": "code",
   "execution_count": 17,
   "metadata": {},
   "outputs": [],
   "source": [
    "#naming variables\n",
    "constant = np.repeat(1, len(data))\n",
    "X1 = data.DATE\n",
    "X2 = data.exports\n",
    "X3 = data.conf\n",
    "X4 = data.cpi\n",
    "X5 = data.ip\n",
    "X6 = data.wage\n",
    "X6 = data.emp\n",
    "X7 = data.unemployment\n",
    "X8 = data.ppi\n",
    "X9 = data.retail_trade\n",
    "X10 = data.exchange_rate\n",
    "X11 = data.MV\n",
    "\n",
    "X = np.asfortranarray({'constant' : constant, 'X2': X2, 'X3' : X3, 'X4' : X4, 'X5' : X5, 'X6' : X6, 'X7' : X7, 'X8' : X8, 'X9' : X9, 'X10' : X10, 'X11' : X11})\n",
    "\n",
    "y = data.gdp"
   ]
  },
  {
   "cell_type": "code",
   "execution_count": 8,
   "metadata": {},
   "outputs": [
    {
     "name": "stderr",
     "output_type": "stream",
     "text": [
      "C:\\Users\\Davis Berlind\\Miniconda3\\lib\\site-packages\\fred\\helpers\\__init__.py:36: FutureWarning: convert_objects is deprecated.  To re-infer data dtypes for object columns, use DataFrame.infer_objects()\n",
      "For all other conversions use the data-type specific converters pd.to_datetime, pd.to_timedelta and pd.to_numeric.\n",
      "  frame = frame.convert_objects(convert_numeric=True)\n"
     ]
    }
   ],
   "source": [
    "from fred import Fred\n",
    "\n",
    "# Setting data parameters\n",
    "start = datetime(1990, 1, 1)\n",
    "end = datetime(2019, 4, 1)\n",
    "\n",
    "params = {'observation_start': start.strftime('%Y-%m-%d'),\n",
    "          'observation_end': end.strftime('%Y-%m-%d')}\n",
    "\n",
    "fr = Fred(api_key = key, response_type = 'df')\n",
    "gdp = fr.series.observations(\"GDPC1\", params = params)\n",
    "\n",
    "def growthRate(series):\n",
    "    return np.exp(np.diff(np.log(series))) - 1\n",
    "\n",
    "# fitting regression\n",
    "X = pd.read_csv(\"data.csv\").drop('date', axis = 1)\n",
    "y = growthRate(gdp.value)\n",
    "\n",
    "regr = ElasticNet(alpha=1.0, copy_X=True, fit_intercept=True, l1_ratio=0.5,\n",
    "                  max_iter=1000, normalize=False, positive=False, precompute=False,\n",
    "                  random_state=0, selection='cyclic', tol=0.0001, warm_start=False)\n",
    "results = regr.fit(X, y)"
   ]
  },
  {
   "cell_type": "code",
   "execution_count": 4,
   "metadata": {},
   "outputs": [],
   "source": [
    "#generating predictions (will want to use training and test set in the future)\n",
    "y_pred = results.predict(X)"
   ]
  },
  {
   "cell_type": "code",
   "execution_count": 5,
   "metadata": {},
   "outputs": [
    {
     "data": {
      "text/plain": [
       "3.46374107851242e-05"
      ]
     },
     "execution_count": 5,
     "metadata": {},
     "output_type": "execute_result"
    }
   ],
   "source": [
    "# calculating MSSE\n",
    "mean_squared_error(y, y_pred)"
   ]
  },
  {
   "cell_type": "code",
   "execution_count": 7,
   "metadata": {},
   "outputs": [
    {
     "name": "stdout",
     "output_type": "stream",
     "text": [
      "Computing regularization path using the elastic net...\n"
     ]
    }
   ],
   "source": [
    "# Compute paths\n",
    "\n",
    "eps = 5e-3  # the smaller it is the longer is the path\n",
    "\n",
    "print(\"Computing regularization path using the elastic net...\")\n",
    "alphas_enet, coefs_enet, _ = enet_path(\n",
    "    X, y, eps=eps, l1_ratio=0.8, fit_intercept=False)"
   ]
  },
  {
   "cell_type": "code",
   "execution_count": 6,
   "metadata": {},
   "outputs": [
    {
     "ename": "NameError",
     "evalue": "name 'alphas_lasso' is not defined",
     "output_type": "error",
     "traceback": [
      "\u001b[1;31m---------------------------------------------------------------------------\u001b[0m",
      "\u001b[1;31mNameError\u001b[0m                                 Traceback (most recent call last)",
      "\u001b[1;32m~\\Dropbox\\Duke\\CS 571\\STA-561-Final-Project\\fred_api_key.py\u001b[0m in \u001b[0;36m<module>\u001b[1;34m\u001b[0m\n\u001b[0;32m      3\u001b[0m \u001b[0mplt\u001b[0m\u001b[1;33m.\u001b[0m\u001b[0mfigure\u001b[0m\u001b[1;33m(\u001b[0m\u001b[1;36m1\u001b[0m\u001b[1;33m)\u001b[0m\u001b[1;33m\u001b[0m\u001b[1;33m\u001b[0m\u001b[0m\n\u001b[0;32m      4\u001b[0m \u001b[0mcolors\u001b[0m \u001b[1;33m=\u001b[0m \u001b[0mcycle\u001b[0m\u001b[1;33m(\u001b[0m\u001b[1;33m[\u001b[0m\u001b[1;34m'b'\u001b[0m\u001b[1;33m,\u001b[0m \u001b[1;34m'r'\u001b[0m\u001b[1;33m,\u001b[0m \u001b[1;34m'g'\u001b[0m\u001b[1;33m,\u001b[0m \u001b[1;34m'c'\u001b[0m\u001b[1;33m,\u001b[0m \u001b[1;34m'k'\u001b[0m\u001b[1;33m]\u001b[0m\u001b[1;33m)\u001b[0m\u001b[1;33m\u001b[0m\u001b[1;33m\u001b[0m\u001b[0m\n\u001b[1;32m----> 5\u001b[1;33m \u001b[0mneg_log_alphas_lasso\u001b[0m \u001b[1;33m=\u001b[0m \u001b[1;33m-\u001b[0m\u001b[0mnp\u001b[0m\u001b[1;33m.\u001b[0m\u001b[0mlog10\u001b[0m\u001b[1;33m(\u001b[0m\u001b[0malphas_lasso\u001b[0m\u001b[1;33m)\u001b[0m\u001b[1;33m\u001b[0m\u001b[1;33m\u001b[0m\u001b[0m\n\u001b[0m\u001b[0;32m      6\u001b[0m \u001b[0mneg_log_alphas_enet\u001b[0m \u001b[1;33m=\u001b[0m \u001b[1;33m-\u001b[0m\u001b[0mnp\u001b[0m\u001b[1;33m.\u001b[0m\u001b[0mlog10\u001b[0m\u001b[1;33m(\u001b[0m\u001b[0malphas_enet\u001b[0m\u001b[1;33m)\u001b[0m\u001b[1;33m\u001b[0m\u001b[1;33m\u001b[0m\u001b[0m\n\u001b[0;32m      7\u001b[0m \u001b[1;32mfor\u001b[0m \u001b[0mcoef_l\u001b[0m\u001b[1;33m,\u001b[0m \u001b[0mcoef_e\u001b[0m\u001b[1;33m,\u001b[0m \u001b[0mc\u001b[0m \u001b[1;32min\u001b[0m \u001b[0mzip\u001b[0m\u001b[1;33m(\u001b[0m\u001b[0mcoefs_lasso\u001b[0m\u001b[1;33m,\u001b[0m \u001b[0mcoefs_enet\u001b[0m\u001b[1;33m,\u001b[0m \u001b[0mcolors\u001b[0m\u001b[1;33m)\u001b[0m\u001b[1;33m:\u001b[0m\u001b[1;33m\u001b[0m\u001b[1;33m\u001b[0m\u001b[0m\n",
      "\u001b[1;31mNameError\u001b[0m: name 'alphas_lasso' is not defined"
     ]
    },
    {
     "data": {
      "text/plain": [
       "<Figure size 432x288 with 0 Axes>"
      ]
     },
     "metadata": {},
     "output_type": "display_data"
    }
   ],
   "source": [
    "# Display results\n",
    "\n",
    "plt.figure(1)\n",
    "colors = cycle(['b', 'r', 'g', 'c', 'k'])\n",
    "neg_log_alphas_lasso = -np.log10(alphas_lasso)\n",
    "neg_log_alphas_enet = -np.log10(alphas_enet)\n",
    "for coef_l, coef_e, c in zip(coefs_lasso, coefs_enet, colors):\n",
    "    l2 = plt.plot(neg_log_alphas_enet, coef_e, linestyle='--', c=c)"
   ]
  },
  {
   "cell_type": "markdown",
   "metadata": {},
   "source": [
    "\n",
    "## Implementing Ridge Regression"
   ]
  },
  {
   "cell_type": "code",
   "execution_count": 14,
   "metadata": {},
   "outputs": [
    {
     "data": {
      "image/png": "[encoded data removed]",
      "text/plain": [
       "<Figure size 432x288 with 1 Axes>"
      ]
     },
     "metadata": {
      "needs_background": "light"
     },
     "output_type": "display_data"
    }
   ],
   "source": [
    "# #############################################################################\n",
    "# Compute paths\n",
    "\n",
    "n_alphas = 200\n",
    "alphas = np.logspace(-6, 6, n_alphas)\n",
    "\n",
    "coefs = []\n",
    "for a in alphas:\n",
    "    ridge = linear_model.Ridge(alpha=a, fit_intercept=False)\n",
    "    ridge.fit(X, y)\n",
    "    coefs.append(ridge.coef_)\n",
    "\n",
    "# #############################################################################\n",
    "# Display results\n",
    "\n",
    "ax = plt.gca()\n",
    "\n",
    "ax.plot(alphas, coefs)\n",
    "ax.set_xscale('log')\n",
    "ax.set_xlim(ax.get_xlim()[::-1])  # reverse axis\n",
    "plt.xlabel('alpha')\n",
    "plt.ylabel('weights')\n",
    "plt.title('Ridge coefficients as a function of the regularization')\n",
    "plt.axis('tight')\n",
    "plt.show()"
   ]
  },
  {
   "cell_type": "markdown",
   "metadata": {},
   "source": [
    "## Expanding window forecasting"
   ]
  },
  {
   "cell_type": "code",
   "execution_count": null,
   "metadata": {},
   "outputs": [],
   "source": [
    "#T = final observation number\n",
    "#S = start of forecasts\n",
    "\n",
    "for model in models:\n",
    "    for i in range(0,n):\n",
    "        X_train = X[0:start+i,:]\n",
    "        y_train = y[0:start+i]\n",
    "\n",
    "        model = ElasticNet(alpha=1.0, copy_X=True, fit_intercept=True, l1_ratio=0.5,\n",
    "                           max_iter=1000, normalize=False, positive=False, precompute=False,\n",
    "                           random_state=0, selection='cyclic', tol=0.0001, warm_start=False)\n",
    "        regr.fit(X_train, y_train)\n",
    "        \n",
    "    \n",
    "    \n",
    "    "
   ]
  }
 ],
 "metadata": {
  "kernelspec": {
   "display_name": "Python 3",
   "language": "python",
   "name": "python3"
  },
  "language_info": {
   "codemirror_mode": {
    "name": "ipython",
    "version": 3
   },
   "file_extension": ".py",
   "mimetype": "text/x-python",
   "name": "python",
   "nbconvert_exporter": "python",
   "pygments_lexer": "ipython3",
   "version": "3.7.1"
  }
 },
 "nbformat": 4,
 "nbformat_minor": 2
}
